{
 "cells": [
  {
   "cell_type": "code",
   "execution_count": 9,
   "metadata": {},
   "outputs": [],
   "source": [
    "# This is a quick-start file for the assignment. Feel free to erase cells you don't need."
   ]
  },
  {
   "cell_type": "code",
   "execution_count": 10,
   "metadata": {},
   "outputs": [
    {
     "name": "stdout",
     "output_type": "stream",
     "text": [
      "Requirement already satisfied: yfinance in c:\\users\\narti\\anaconda3\\lib\\site-packages (0.1.55)\n",
      "Requirement already satisfied: pandas>=0.24 in c:\\users\\narti\\anaconda3\\lib\\site-packages (from yfinance) (1.1.3)\n",
      "Requirement already satisfied: numpy>=1.15 in c:\\users\\narti\\anaconda3\\lib\\site-packages (from yfinance) (1.19.2)\n",
      "Requirement already satisfied: multitasking>=0.0.7 in c:\\users\\narti\\anaconda3\\lib\\site-packages (from yfinance) (0.0.9)\n",
      "Requirement already satisfied: requests>=2.20 in c:\\users\\narti\\anaconda3\\lib\\site-packages (from yfinance) (2.24.0)\n",
      "Requirement already satisfied: lxml>=4.5.1 in c:\\users\\narti\\anaconda3\\lib\\site-packages (from yfinance) (4.6.1)\n",
      "Requirement already satisfied: pytz>=2017.2 in c:\\users\\narti\\anaconda3\\lib\\site-packages (from pandas>=0.24->yfinance) (2020.1)\n",
      "Requirement already satisfied: python-dateutil>=2.7.3 in c:\\users\\narti\\anaconda3\\lib\\site-packages (from pandas>=0.24->yfinance) (2.8.1)\n",
      "Requirement already satisfied: chardet<4,>=3.0.2 in c:\\users\\narti\\anaconda3\\lib\\site-packages (from requests>=2.20->yfinance) (3.0.4)\n",
      "Requirement already satisfied: urllib3!=1.25.0,!=1.25.1,<1.26,>=1.21.1 in c:\\users\\narti\\anaconda3\\lib\\site-packages (from requests>=2.20->yfinance) (1.25.11)\n",
      "Requirement already satisfied: idna<3,>=2.5 in c:\\users\\narti\\anaconda3\\lib\\site-packages (from requests>=2.20->yfinance) (2.10)\n",
      "Requirement already satisfied: certifi>=2017.4.17 in c:\\users\\narti\\anaconda3\\lib\\site-packages (from requests>=2.20->yfinance) (2020.11.8)\n",
      "Requirement already satisfied: six>=1.5 in c:\\users\\narti\\anaconda3\\lib\\site-packages (from python-dateutil>=2.7.3->pandas>=0.24->yfinance) (1.15.0)\n"
     ]
    }
   ],
   "source": [
    "# Your environment is probably missing some packages. We will check and, if necessary, install.\n",
    "# https://pypi.org/project/yfinance\n",
    "import pip\n",
    "from pip._internal.utils.misc import get_installed_distributions\n",
    "pkgs = ''.join(str(get_installed_distributions(local_only=True)))\n",
    "if \"yfinance\" not in pkgs:\n",
    "    !pip install yfinance\n",
    "if \"lxml\" not in pkgs:\n",
    "    !pip install lxml "
   ]
  },
  {
   "cell_type": "code",
   "execution_count": 11,
   "metadata": {},
   "outputs": [],
   "source": [
    "# Now we can import yfinance\n",
    "import yfinance as yf\n",
    "import pandas as pd\n",
    "from pathlib import Path"
   ]
  },
  {
   "cell_type": "code",
   "execution_count": 29,
   "metadata": {},
   "outputs": [],
   "source": [
    "# Let's define some useful constants\n",
    "START = \"2020-01-01\"\n",
    "END   = \"2020-01-08\"\n",
    "\n",
    "company_name = 'AAPL'\n",
    "\n",
    "TICKERS = [company_name]\n",
    "\n",
    "DATAFILE_NAME = \"data.pickle1\" + company_name"
   ]
  },
  {
   "cell_type": "code",
   "execution_count": 30,
   "metadata": {},
   "outputs": [],
   "source": [
    "# It's practical to download data from Yahoo!Finance just once and keep a local copy\n",
    "if Path(DATAFILE_NAME).is_file(): # check if we got the datafile already\n",
    "    data = pd.read_pickle(DATAFILE_NAME) # read it\n",
    "else:\n",
    "    data = yf.download(tickers=TICKERS, start=START, end=END, auto_adjust=True)\n",
    "    data.to_pickle(DATAFILE_NAME) # save localy"
   ]
  },
  {
   "cell_type": "code",
   "execution_count": 33,
   "metadata": {},
   "outputs": [],
   "source": [
    "data[\"Change\"] = data[\"Close\"] - data[\"Open\"]"
   ]
  },
  {
   "cell_type": "code",
   "execution_count": 34,
   "metadata": {},
   "outputs": [],
   "source": [
    "data[\"Mid-range\"] = (data[\"High\"] + data[\"Low\"]) / 2"
   ]
  },
  {
   "cell_type": "code",
   "execution_count": 37,
   "metadata": {},
   "outputs": [
    {
     "data": {
      "text/html": [
       "<div>\n",
       "<style scoped>\n",
       "    .dataframe tbody tr th:only-of-type {\n",
       "        vertical-align: middle;\n",
       "    }\n",
       "\n",
       "    .dataframe tbody tr th {\n",
       "        vertical-align: top;\n",
       "    }\n",
       "\n",
       "    .dataframe thead th {\n",
       "        text-align: right;\n",
       "    }\n",
       "</style>\n",
       "<table border=\"1\" class=\"dataframe\">\n",
       "  <thead>\n",
       "    <tr style=\"text-align: right;\">\n",
       "      <th></th>\n",
       "      <th>Open</th>\n",
       "      <th>High</th>\n",
       "      <th>Low</th>\n",
       "      <th>Close</th>\n",
       "      <th>Volume</th>\n",
       "      <th>Change</th>\n",
       "      <th>Mid-range</th>\n",
       "    </tr>\n",
       "    <tr>\n",
       "      <th>Date</th>\n",
       "      <th></th>\n",
       "      <th></th>\n",
       "      <th></th>\n",
       "      <th></th>\n",
       "      <th></th>\n",
       "      <th></th>\n",
       "      <th></th>\n",
       "    </tr>\n",
       "  </thead>\n",
       "  <tbody>\n",
       "    <tr>\n",
       "      <th>2019-12-31</th>\n",
       "      <td>71.278314</td>\n",
       "      <td>72.200239</td>\n",
       "      <td>71.177516</td>\n",
       "      <td>72.192863</td>\n",
       "      <td>100805600</td>\n",
       "      <td>0.914550</td>\n",
       "      <td>71.688877</td>\n",
       "    </tr>\n",
       "    <tr>\n",
       "      <th>2020-01-02</th>\n",
       "      <td>72.829608</td>\n",
       "      <td>73.901504</td>\n",
       "      <td>72.571473</td>\n",
       "      <td>73.840042</td>\n",
       "      <td>135480400</td>\n",
       "      <td>1.010434</td>\n",
       "      <td>73.236488</td>\n",
       "    </tr>\n",
       "    <tr>\n",
       "      <th>2020-01-03</th>\n",
       "      <td>73.053317</td>\n",
       "      <td>73.896570</td>\n",
       "      <td>72.893519</td>\n",
       "      <td>73.122154</td>\n",
       "      <td>146322800</td>\n",
       "      <td>0.068837</td>\n",
       "      <td>73.395044</td>\n",
       "    </tr>\n",
       "    <tr>\n",
       "      <th>2020-01-06</th>\n",
       "      <td>72.227286</td>\n",
       "      <td>73.744155</td>\n",
       "      <td>71.971603</td>\n",
       "      <td>73.704819</td>\n",
       "      <td>118387200</td>\n",
       "      <td>1.477533</td>\n",
       "      <td>72.857879</td>\n",
       "    </tr>\n",
       "    <tr>\n",
       "      <th>2020-01-07</th>\n",
       "      <td>73.714658</td>\n",
       "      <td>73.975255</td>\n",
       "      <td>73.134463</td>\n",
       "      <td>73.358185</td>\n",
       "      <td>108872000</td>\n",
       "      <td>-0.356473</td>\n",
       "      <td>73.554859</td>\n",
       "    </tr>\n",
       "  </tbody>\n",
       "</table>\n",
       "</div>"
      ],
      "text/plain": [
       "                 Open       High        Low      Close     Volume    Change  \\\n",
       "Date                                                                          \n",
       "2019-12-31  71.278314  72.200239  71.177516  72.192863  100805600  0.914550   \n",
       "2020-01-02  72.829608  73.901504  72.571473  73.840042  135480400  1.010434   \n",
       "2020-01-03  73.053317  73.896570  72.893519  73.122154  146322800  0.068837   \n",
       "2020-01-06  72.227286  73.744155  71.971603  73.704819  118387200  1.477533   \n",
       "2020-01-07  73.714658  73.975255  73.134463  73.358185  108872000 -0.356473   \n",
       "\n",
       "            Mid-range  \n",
       "Date                   \n",
       "2019-12-31  71.688877  \n",
       "2020-01-02  73.236488  \n",
       "2020-01-03  73.395044  \n",
       "2020-01-06  72.857879  \n",
       "2020-01-07  73.554859  "
      ]
     },
     "execution_count": 37,
     "metadata": {},
     "output_type": "execute_result"
    }
   ],
   "source": [
    "data.head()"
   ]
  },
  {
   "cell_type": "code",
   "execution_count": null,
   "metadata": {},
   "outputs": [],
   "source": []
  }
 ],
 "metadata": {
  "kernelspec": {
   "display_name": "Python 3",
   "language": "python",
   "name": "python3"
  },
  "language_info": {
   "codemirror_mode": {
    "name": "ipython",
    "version": 3
   },
   "file_extension": ".py",
   "mimetype": "text/x-python",
   "name": "python",
   "nbconvert_exporter": "python",
   "pygments_lexer": "ipython3",
   "version": "3.7.9"
  }
 },
 "nbformat": 4,
 "nbformat_minor": 2
}
